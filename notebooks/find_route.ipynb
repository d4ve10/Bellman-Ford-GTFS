{
 "cells": [
  {
   "cell_type": "code",
   "execution_count": null,
   "metadata": {},
   "outputs": [],
   "source": [
    "# Tell jupyter notebook to autoload config file\n",
    "%load_ext autoreload\n",
    "%autoreload 2"
   ]
  },
  {
   "cell_type": "code",
   "execution_count": null,
   "metadata": {},
   "outputs": [],
   "source": [
    "import folium as fl\n",
    "from folium.plugins import MarkerCluster\n",
    "from config import *"
   ]
  },
  {
   "cell_type": "markdown",
   "metadata": {},
   "source": [
    "## Import created dataset"
   ]
  },
  {
   "cell_type": "code",
   "execution_count": null,
   "metadata": {},
   "outputs": [],
   "source": [
    "stops = pd.read_csv(os.path.join(gtfs_path, 'stops.txt'), dtype={\"stop_id\": str, \"parent_station\": str})\n",
    "trips = pd.read_csv(os.path.join(gtfs_path, 'trips.txt'), dtype={\"trip_id\": str})\n",
    "routes = pd.read_csv(os.path.join(gtfs_path, 'routes.txt'))\n",
    "data = pd.read_csv(data_path, dtype={\"from_stop\": str, \"to_stop\": str, \"trip_id\": str})\n",
    "print(f\"Using \\\"{gtfs_dataset}\\\" dataset with {len(data.index)} rows/edges\")"
   ]
  },
  {
   "cell_type": "markdown",
   "metadata": {},
   "source": [
    "## Graph structure"
   ]
  },
  {
   "cell_type": "code",
   "execution_count": null,
   "metadata": {},
   "outputs": [],
   "source": [
    "class Graph:\n",
    "    def __init__(self):\n",
    "        self.nodes = set()\n",
    "        self.edges = []\n",
    "\n",
    "    def add_node(self, value):\n",
    "        if value not in self.nodes:\n",
    "            self.nodes.add(value)\n",
    "\n",
    "    def add_edge(self, trip_id, from_node, to_node, departure_time, arrival_time):\n",
    "        self.add_node(from_node)\n",
    "        self.add_node(to_node)\n",
    "\n",
    "        edge = Edge(trip_id, from_node, to_node, departure_time, arrival_time)\n",
    "        self.edges.append(edge)\n",
    "        \n",
    "class Edge:\n",
    "    def __init__(self, trip_id, from_node, to_node, departure_time, arrival_time):\n",
    "        self.trip_id = trip_id\n",
    "        self.from_node = from_node\n",
    "        self.to_node = to_node\n",
    "        self.departure_time = departure_time\n",
    "        self.arrival_time = arrival_time\n",
    "\n",
    "\n",
    "def calculate_travel_time(arrival_time_at_node, edge):\n",
    "    arrival_time_at_node_datetime = datetime.combine(datetime.min, arrival_time_at_node)\n",
    "    departure_datetime = datetime.combine(datetime.min, edge.departure_time)\n",
    "    arrival_datetime = datetime.combine(datetime.min, edge.arrival_time)\n",
    "    while arrival_datetime < departure_datetime:  # Handle crossing midnight\n",
    "        arrival_datetime += timedelta(days=1)\n",
    "    travel_time = (arrival_datetime - departure_datetime).total_seconds()  # Travel time between two stops\n",
    "    if edge.trip_id != '0' and edge.trip_id != '-1':  # Ignore wait time for walking\n",
    "        travel_time += (departure_datetime - arrival_time_at_node_datetime).total_seconds()  # Wait time at the station\n",
    "    return travel_time\n",
    "\n",
    "\n",
    "def bellman_ford(graph, source, start_time):\n",
    "    # Step 1: Initialize durations from source to all other nodes as infinity\n",
    "    durations = {node: float('inf') for node in graph.nodes}\n",
    "    predecessors = {node: None for node in graph.nodes}\n",
    "    departure_times = {node: None for node in graph.nodes}\n",
    "    arrival_times = {node: None for node in graph.nodes}\n",
    "    trip_ids = {node: None for node in graph.nodes}\n",
    "    # Set duration to the source itself as 0\n",
    "    durations[source] = 0\n",
    "    # Set arrival time at source as start time\n",
    "    arrival_times[source] = start_time\n",
    "    relaxation_completed = False\n",
    "\n",
    "    print(f\"Going through {len(graph.nodes)} nodes and {len(graph.edges)} edges\")\n",
    "\n",
    "    # Step 2: Relax all edges |V| - 1 times\n",
    "    for _ in range(len(graph.nodes) - 1):\n",
    "        updated = False\n",
    "        for edge in graph.edges:\n",
    "            if arrival_times[edge.from_node] is None:\n",
    "                continue\n",
    "            # Skip edges that have departure time before arrival time at the node\n",
    "            if edge.departure_time < arrival_times[edge.from_node] and edge.trip_id != '0' and edge.trip_id != '-1':\n",
    "                continue\n",
    "\n",
    "            travel_time = calculate_travel_time(arrival_times[edge.from_node], edge)\n",
    "\n",
    "            if durations[edge.from_node] != float('inf') and durations[edge.from_node] + travel_time < durations[edge.to_node]:\n",
    "                durations[edge.to_node] = durations[edge.from_node] + travel_time\n",
    "                if edge.trip_id == '0': # Changing platform\n",
    "                    arrival_times[edge.to_node] = arrival_times[edge.from_node]\n",
    "                    departure_times[edge.to_node] = arrival_times[edge.from_node]\n",
    "                elif edge.trip_id == '-1': # Walking based on pathways.txt file\n",
    "                    arrival_times[edge.to_node] = (datetime.combine(datetime.min, arrival_times[edge.from_node]) + timedelta(seconds=travel_time)).time()\n",
    "                    departure_times[edge.to_node] = arrival_times[edge.from_node]\n",
    "                else:\n",
    "                    arrival_times[edge.to_node] = edge.arrival_time\n",
    "                    departure_times[edge.to_node] = edge.departure_time\n",
    "                predecessors[edge.to_node] = edge.from_node\n",
    "                trip_ids[edge.to_node] = edge.trip_id\n",
    "                updated = True\n",
    "                # if edge.trip_id != '0' and edge.trip_id != '-1':\n",
    "                #     print(f\"Relaxed edge {edge.from_node} -> {edge.to_node} ({edge.trip_id}): New distance = {durations[edge.to_node]}\")\n",
    "        if not updated:\n",
    "            relaxation_completed = True\n",
    "            break\n",
    "    \n",
    "    # Step 3: Check for negative-weight cycles\n",
    "    if not relaxation_completed:\n",
    "        for edge in graph.edges:\n",
    "            if arrival_times[edge.from_node] is None:\n",
    "                continue\n",
    "            # Skip edges that have departure time before arrival time at the node\n",
    "            if edge.departure_time < arrival_times[edge.from_node] and edge.trip_id != '0' and edge.trip_id != '-1':\n",
    "                continue\n",
    "    \n",
    "            travel_time = calculate_travel_time(arrival_times[edge.from_node], edge)\n",
    "    \n",
    "            if durations[edge.from_node] != float('inf') and durations[edge.from_node] + travel_time < durations[edge.to_node]:\n",
    "                raise ValueError(\"Graph contains negative weight cycle\")\n",
    "\n",
    "    return durations, predecessors, departure_times, arrival_times, trip_ids\n",
    "\n",
    "\n",
    "def get_shortest_path(graph, source, destination, start_time):\n",
    "    duration, predecessors, departure_times, arrival_times, trip_ids = bellman_ford(graph, source, start_time)\n",
    "    \n",
    "    full_path = []\n",
    "    current_node = destination\n",
    "\n",
    "    while current_node != source:\n",
    "        full_path.append(current_node)\n",
    "        current_node = predecessors[current_node]\n",
    "\n",
    "    full_path.append(source)\n",
    "    full_path.reverse()\n",
    "\n",
    "    return duration[destination], full_path, departure_times, arrival_times, trip_ids\n"
   ]
  },
  {
   "cell_type": "markdown",
   "metadata": {},
   "source": [
    "## Building the network"
   ]
  },
  {
   "cell_type": "code",
   "execution_count": null,
   "metadata": {},
   "outputs": [],
   "source": [
    "def convert_time(time_str):\n",
    "    hours, minutes, seconds = map(int, time_str.split(':'))\n",
    "    while hours >= 24:\n",
    "        hours -= 24\n",
    "    return time(hour=hours, minute=minutes, second=seconds)"
   ]
  },
  {
   "cell_type": "code",
   "execution_count": null,
   "metadata": {},
   "outputs": [],
   "source": [
    "graph = Graph()\n",
    "counter = 0\n",
    "for row in data.itertuples():\n",
    "    counter += 1\n",
    "    if counter % 100000 == 0 or counter == len(data.index):\n",
    "        print('Progress : {}%'.format(np.round(counter / len(data.index) * 100, 2)))\n",
    "\n",
    "    departure_time = convert_time(row.departure_time)\n",
    "    arrival_time = convert_time(row.arrival_time)\n",
    "    graph.add_edge(row.trip_id, row.from_stop, row.to_stop, departure_time, arrival_time)\n",
    "    if row.trip_id == '0':  # Bidirectional edge for changing platforms\n",
    "        graph.add_edge(row.trip_id, row.to_stop, row.from_stop, departure_time, arrival_time)"
   ]
  },
  {
   "cell_type": "markdown",
   "metadata": {},
   "source": [
    "## Find the shortest route"
   ]
  },
  {
   "cell_type": "code",
   "execution_count": null,
   "metadata": {},
   "outputs": [],
   "source": [
    "parent_stations = stops[stops['location_type'] == 1]\n",
    "\n",
    "\n",
    "def get_station(stop_name):\n",
    "    found_station = parent_stations[parent_stations['stop_name'].str.contains(stop_name, regex=False, case=False)]\n",
    "    if found_station.empty:\n",
    "        found_station = stops[stops['stop_name'].str.contains(stop_name, regex=False, case=False)]\n",
    "    if found_station.empty:\n",
    "        print(f\"No stops found with stop name {stop_name}\")\n",
    "    return found_station['stop_id'].astype(str).iloc[0], found_station['stop_name'].iloc[0]\n",
    "\n",
    "\n",
    "def get_train_name(trip_id):\n",
    "    if not trip_id or trip_id == '0':\n",
    "        return \"\"\n",
    "    if trip_id == '-1':\n",
    "        return \"Walking\"\n",
    "    route_id = trips[trips['trip_id'] == trip_id]['route_id'].iloc[0]\n",
    "    train_name = routes[routes['route_id'] == route_id]['route_short_name'].iloc[0]\n",
    "    return train_name\n",
    "\n",
    "\n",
    "def find_shortest_route(source, destination, start_time):\n",
    "    duration, path, departure_times, arrival_times, trip_ids = get_shortest_path(graph, source, destination, start_time)\n",
    "\n",
    "    trip_id = [trip_ids[i] for i in path]\n",
    "    trip_id = [f\"{get_train_name(i)}\" if i == '-1' or i == '0' else f\"{get_train_name(i)} ({i})\" if i else \"\" for i in trip_id]\n",
    "    departure_time = [\"\" if trip_ids[i] == '0' else departure_times[i] for i in path]\n",
    "    arrival_time = [\"\" if trip_ids[i] == '0' else arrival_times[i] for i in path]\n",
    "    departure_time = departure_time[1:] + [\"\"]\n",
    "\n",
    "    route = pd.merge(\n",
    "        pd.DataFrame({'stop_id' : path, 'arrival_time': arrival_time, 'departure_time': departure_time, 'trip_id': trip_id}),\n",
    "        stops[['stop_id', 'stop_name', 'stop_lat', 'stop_lon']],\n",
    "        on='stop_id'\n",
    "    ).reset_index(drop=True)\n",
    "    print('Travel time     : {}'.format(str(timedelta(seconds=duration))))\n",
    "    print(' ')\n",
    "    print(route[['stop_id', 'trip_id', 'stop_name', 'arrival_time', 'departure_time']])\n",
    "    return route"
   ]
  },
  {
   "cell_type": "code",
   "execution_count": null,
   "metadata": {},
   "outputs": [],
   "source": [
    "from_station_id, from_station_name = get_station(\"Berlin Haupt\")\n",
    "to_station_id, to_station_name = get_station(\"München Hbf\")\n",
    "start_time = \"11:00:00\"\n",
    "print(f\"Calculating shortest route from \\\"{from_station_name}\\\" ({from_station_id}) to \\\"{to_station_name}\\\" ({to_station_id}) at {start_time}\")"
   ]
  },
  {
   "cell_type": "code",
   "execution_count": null,
   "metadata": {},
   "outputs": [],
   "source": [
    "route = find_shortest_route(from_station_id, to_station_id, datetime.strptime(start_time, '%H:%M:%S').time())"
   ]
  },
  {
   "cell_type": "markdown",
   "metadata": {},
   "source": [
    "## Plot the shortest route on map"
   ]
  },
  {
   "cell_type": "code",
   "execution_count": null,
   "metadata": {},
   "outputs": [],
   "source": [
    "# Loads the map roughly in the middle of all stations\n",
    "route_map = fl.Map(location=[route['stop_lat'].median(), route['stop_lon'].median()], zoom_start=8)\n",
    "stop_clusters = MarkerCluster()\n",
    "points = []\n",
    "\n",
    "for row in route.itertuples():\n",
    "    points.append([row.stop_lat, row.stop_lon])\n",
    "    stop_clusters.add_child(fl.Marker(location=[row.stop_lat, row.stop_lon], popup=row.stop_name))\n",
    "\n",
    "route_map.add_child(stop_clusters)\n",
    "line = fl.PolyLine(points, color=\"red\", weight=3, opacity=0.5)\n",
    "route_map.add_child(line)\n",
    "route_map"
   ]
  },
  {
   "cell_type": "code",
   "execution_count": null,
   "metadata": {},
   "outputs": [],
   "source": []
  }
 ],
 "metadata": {
  "language_info": {
   "name": "python"
  }
 },
 "nbformat": 4,
 "nbformat_minor": 4
}
