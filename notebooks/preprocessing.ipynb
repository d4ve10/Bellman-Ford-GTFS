{
 "cells": [
  {
   "cell_type": "code",
   "execution_count": null,
   "id": "5e41a5dd3128e4a0",
   "metadata": {},
   "outputs": [],
   "source": [
    "# Tell jupyter notebook to autoload config file\n",
    "%load_ext autoreload\n",
    "%autoreload 2"
   ]
  },
  {
   "cell_type": "code",
   "execution_count": null,
   "id": "836a8b4943c95483",
   "metadata": {},
   "outputs": [],
   "source": [
    "from config import *"
   ]
  },
  {
   "cell_type": "markdown",
   "id": "8ea66021b23ee625",
   "metadata": {},
   "source": [
    "## Import GTFS datasets"
   ]
  },
  {
   "cell_type": "code",
   "execution_count": null,
   "id": "c7d358c2c0255f82",
   "metadata": {},
   "outputs": [],
   "source": [
    "stops = pd.read_csv(os.path.join(gtfs_path, 'stops.txt'), dtype={\"stop_id\": str, \"parent_station\": str})\n",
    "stop_times = pd.read_csv(os.path.join(gtfs_path, 'stop_times.txt'))\n",
    "stop_times = stop_times.sort_values(['trip_id', 'stop_sequence'], ascending=[1, 1]).reset_index(drop=True)\n",
    "print(f\"Using \\\"{gtfs_dataset}\\\" dataset\")"
   ]
  },
  {
   "cell_type": "code",
   "execution_count": null,
   "id": "9b27a5fb32f48109",
   "metadata": {},
   "outputs": [],
   "source": [
    "stops.head(10)"
   ]
  },
  {
   "cell_type": "code",
   "execution_count": null,
   "id": "b20f4cae01065ae3",
   "metadata": {},
   "outputs": [],
   "source": [
    "stop_times.head(10)"
   ]
  },
  {
   "cell_type": "markdown",
   "id": "4680b47e73bab779",
   "metadata": {},
   "source": [
    "## Convert information about the stop from each row to \"from_stop\" and \"to_stop\" column"
   ]
  },
  {
   "cell_type": "code",
   "execution_count": null,
   "id": "7ec248bb03303846",
   "metadata": {},
   "outputs": [],
   "source": [
    "# Function to process each group\n",
    "def process_trip(trip):\n",
    "    stop_sequence = trip.stop_sequence.values[:-1]\n",
    "    from_stop = trip.stop_id.values[:-1]\n",
    "    to_stop = trip.stop_id.values[1:]\n",
    "    from_stop_departure = trip.departure_time.values[:-1]\n",
    "    to_stop_arrival = trip.arrival_time.values[1:]\n",
    "\n",
    "    return pd.DataFrame({\n",
    "        'trip_id': trip.trip_id.values[0],\n",
    "        'stop_sequence': stop_sequence,\n",
    "        'from_stop': from_stop,\n",
    "        'to_stop': to_stop,\n",
    "        'departure_time': from_stop_departure,\n",
    "        'arrival_time': to_stop_arrival\n",
    "    })\n",
    "\n",
    "\n",
    "# Group by trip_id and apply the processing function\n",
    "grouped = stop_times.groupby('trip_id', as_index=False)[stop_times.columns.tolist()]\n",
    "trips = grouped.apply(process_trip, include_groups=False).reset_index(drop=True)"
   ]
  },
  {
   "cell_type": "markdown",
   "id": "ae45e7a181948a69",
   "metadata": {},
   "source": [
    "## Load pathways.txt if it exists"
   ]
  },
  {
   "cell_type": "code",
   "execution_count": null,
   "id": "792b5f42567905c7",
   "metadata": {},
   "outputs": [],
   "source": [
    "connections = pd.DataFrame()\n",
    "\n",
    "if os.path.exists(os.path.join(gtfs_path, 'pathways.txt')):\n",
    "    print(\"Loading pathways...\")\n",
    "    pathways = pd.read_csv(os.path.join(gtfs_path, 'pathways.txt'))\n",
    "    pathways = pathways[pathways['traversal_time'].notna()]\n",
    "    pathways.traversal_time = pathways.traversal_time.apply(lambda traversal_time: \"{:0>8}\".format(str(timedelta(seconds=traversal_time))))\n",
    "    pathways_df = pd.DataFrame({\n",
    "        'trip_id': -1,\n",
    "        'stop_sequence': -1,\n",
    "        'from_stop': pathways['from_stop_id'].values,\n",
    "        'to_stop': pathways['to_stop_id'].values,\n",
    "        'departure_time': \"00:00:00\",\n",
    "        'arrival_time': pathways['traversal_time'].values\n",
    "    })\n",
    "    connections = pathways_df"
   ]
  },
  {
   "cell_type": "markdown",
   "id": "60997967b70c3650",
   "metadata": {},
   "source": [
    "## Add connections to parent stations"
   ]
  },
  {
   "cell_type": "code",
   "execution_count": null,
   "id": "b43ca2cb528e6c06",
   "metadata": {},
   "outputs": [],
   "source": [
    "def process_station(station):\n",
    "    return pd.DataFrame({\n",
    "        'trip_id': 0,\n",
    "        'stop_sequence': -1,\n",
    "        'from_stop': station['parent_station'].values,\n",
    "        'to_stop': station['stop_id'].values,\n",
    "        'departure_time': \"00:00:00\",\n",
    "        'arrival_time': \"00:00:00\"\n",
    "    })\n",
    "\n",
    "\n",
    "grouped = stops.groupby('parent_station', as_index=False)[stops.columns.tolist()]\n",
    "parent_connections = grouped.apply(process_station, include_groups=False).reset_index(drop=True)"
   ]
  },
  {
   "cell_type": "code",
   "execution_count": null,
   "id": "299fa9bfa30b6578",
   "metadata": {},
   "outputs": [],
   "source": [
    "data = pd.concat([trips, connections, parent_connections])\n",
    "data.trip_id = data.trip_id.astype(int)\n",
    "data.stop_sequence = data.stop_sequence.astype(int)\n",
    "\n",
    "data = data.sort_values(['trip_id', 'stop_sequence'], ascending=[1, 1]).reset_index(drop=True)"
   ]
  },
  {
   "cell_type": "code",
   "execution_count": null,
   "id": "96de765db486e42b",
   "metadata": {},
   "outputs": [],
   "source": [
    "data.head(10)"
   ]
  },
  {
   "cell_type": "code",
   "execution_count": null,
   "id": "d8ce9d08df966ee",
   "metadata": {},
   "outputs": [],
   "source": [
    "data.to_csv(data_path, index=False)"
   ]
  },
  {
   "cell_type": "code",
   "execution_count": null,
   "id": "d21d30726c644376",
   "metadata": {},
   "outputs": [],
   "source": []
  }
 ],
 "metadata": {
  "language_info": {
   "name": "python"
  }
 },
 "nbformat": 4,
 "nbformat_minor": 5
}
