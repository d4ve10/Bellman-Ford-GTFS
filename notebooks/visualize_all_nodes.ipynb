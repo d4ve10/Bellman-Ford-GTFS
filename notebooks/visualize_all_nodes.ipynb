{
 "cells": [
  {
   "cell_type": "code",
   "execution_count": null,
   "id": "initial_id",
   "metadata": {},
   "outputs": [],
   "source": [
    "# Tell jupyter notebook to autoload config file\n",
    "%load_ext autoreload\n",
    "%autoreload 2"
   ]
  },
  {
   "cell_type": "code",
   "execution_count": null,
   "id": "9b820de6db0043e2",
   "metadata": {},
   "outputs": [],
   "source": [
    "import folium as fl\n",
    "from folium.plugins import MarkerCluster\n",
    "from config import *"
   ]
  },
  {
   "cell_type": "code",
   "execution_count": null,
   "id": "a678e9e7b0825b24",
   "metadata": {},
   "outputs": [],
   "source": [
    "stops = pd.read_csv(os.path.join(gtfs_path, 'stops.txt'), dtype={\"stop_id\": str, \"parent_station\": str})\n",
    "data = pd.read_csv(data_path, dtype={\"from_stop\": str, \"to_stop\": str, \"trip_id\": str})\n",
    "print(f\"Using \\\"{gtfs_dataset}\\\" dataset with {len(data.index)} rows/edges\")"
   ]
  },
  {
   "cell_type": "code",
   "execution_count": null,
   "id": "4615f60052bec0cd",
   "metadata": {},
   "outputs": [],
   "source": [
    "# Converting DataFrame to numpy array\n",
    "# Increases search performance dramatically\n",
    "stops_np, stops_index = convert_df_to_np(stops)\n",
    "stops_ids = stops['stop_id'].to_numpy()\n",
    "\n",
    "data_np, data_index = convert_df_to_np(data)\n",
    "data_trip_ids = data['trip_id'].to_numpy()\n",
    "data_len = len(data.index)\n",
    "\n",
    "\n",
    "def get_stop_details(stop_id):\n",
    "    # stop = stops[stops['stop_id'] == stop_id]  ->  4 times slower\n",
    "    stop = stops_np[stops_ids == stop_id]\n",
    "    if not stop.any():\n",
    "        raise ValueError(f\"stop_id {stop_id} couldn't be found\")\n",
    "    stop = stop[0]\n",
    "    return convert_np_to_dict(stop, stops_index)\n",
    "\n",
    "\n",
    "def get_line(points):\n",
    "    return fl.PolyLine(points, color=\"red\", weight=2, opacity=0.5)\n"
   ]
  },
  {
   "cell_type": "code",
   "execution_count": null,
   "id": "e6f3193a1da98278",
   "metadata": {},
   "outputs": [],
   "source": [
    "# Loads the map roughly in the middle of all stations\n",
    "connections_map = fl.Map(location=[stops['stop_lat'].median(), stops['stop_lon'].median()], zoom_start=8)\n",
    "stop_clusters = MarkerCluster()\n",
    "added_stops = set()\n",
    "added_edges = set()\n",
    "counter = 0\n",
    "\n",
    "for row in data_np:\n",
    "    counter += 1\n",
    "    if counter % 10000 == 0 or counter == data_len:\n",
    "        print('Progress : {}%'.format(np.round(counter / data_len * 100, 2)))\n",
    "    points = []\n",
    "    row = convert_np_to_dict(row, data_index)\n",
    "    if row['trip_id'] == '0' or row['trip_id'] == '-1':  # Removes added connections\n",
    "        continue\n",
    "    if (row['from_stop'], row['to_stop']) in added_edges or (row['to_stop'], row['from_stop']) in added_edges:\n",
    "        continue\n",
    "    from_stop = get_stop_details(row['from_stop'])\n",
    "    to_stop = get_stop_details(row['to_stop'])\n",
    "    if from_stop['stop_id'] not in added_stops:\n",
    "        stop_clusters.add_child(fl.Marker(location=[from_stop['stop_lat'], from_stop['stop_lon']], popup=from_stop['stop_name']))\n",
    "    if to_stop['stop_id'] not in added_stops:\n",
    "        stop_clusters.add_child(fl.Marker(location=[to_stop['stop_lat'], to_stop['stop_lon']], popup=to_stop['stop_name']))\n",
    "    points.append([from_stop['stop_lat'], from_stop['stop_lon']])\n",
    "    points.append([to_stop['stop_lat'], to_stop['stop_lon']])\n",
    "    connections_map.add_child(get_line(points))\n",
    "\n",
    "    added_stops.add(from_stop['stop_id'])\n",
    "    added_stops.add(to_stop['stop_id'])\n",
    "    added_edges.add((from_stop['stop_id'], to_stop['stop_id']))\n",
    "\n",
    "\n",
    "connections_map.add_child(stop_clusters)\n",
    "connections_map"
   ]
  },
  {
   "cell_type": "code",
   "execution_count": null,
   "id": "be16f3cda64bbb99",
   "metadata": {},
   "outputs": [],
   "source": []
  }
 ],
 "metadata": {
  "language_info": {
   "name": "python"
  }
 },
 "nbformat": 4,
 "nbformat_minor": 5
}
